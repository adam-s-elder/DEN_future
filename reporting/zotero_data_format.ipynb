{
 "cells": [
  {
   "cell_type": "code",
   "execution_count": 38,
   "id": "af31de17-2170-4c7b-aa72-a507abad391e",
   "metadata": {
    "editable": true,
    "slideshow": {
     "slide_type": ""
    },
    "tags": []
   },
   "outputs": [],
   "source": [
    "import pandas as pd"
   ]
  },
  {
   "cell_type": "code",
   "execution_count": 57,
   "id": "f84f78af-1579-4ac8-9559-99caae6b70bc",
   "metadata": {
    "editable": true,
    "slideshow": {
     "slide_type": ""
    },
    "tags": []
   },
   "outputs": [],
   "source": [
    "df = pd.read_csv('/Users/kaitlinsinger/wa_notify/DEN_future/data_extraction/output/combined_data.csv')"
   ]
  },
  {
   "cell_type": "code",
   "execution_count": 58,
   "id": "20b90ed8-99b8-4e02-9f03-206bcb99086b",
   "metadata": {
    "editable": true,
    "slideshow": {
     "slide_type": ""
    },
    "tags": []
   },
   "outputs": [],
   "source": [
    "# any addt cleaning here\n",
    "df['param_name'] = df['param_name'].str.replace('case', 'cases')\n",
    "df['param_name'] = df['param_name'].str.replace('casess', 'cases')\n",
    "df['param_name'] = df['param_name'].str.replace('contact', 'contacts')\n",
    "df['param_name'] = df['param_name'].str.replace('contactss', 'contacts')\n",
    "df['param_name'] = df['param_name'].str.replace('total', 'count')\n",
    "df['param_name'] = df['param_name'].str.replace('avg', 'mean')\n",
    "df['param_name'] = df['param_name'].str.replace('median', 'med')"
   ]
  },
  {
   "cell_type": "code",
   "execution_count": 59,
   "id": "8977c202-bd17-4cac-9129-44a72a374b80",
   "metadata": {
    "editable": true,
    "slideshow": {
     "slide_type": ""
    },
    "tags": []
   },
   "outputs": [
    {
     "data": {
      "text/plain": [
       "0             staff_hired_ci_count\n",
       "1             staff_hired_ci_count\n",
       "2             staff_hired_ci_count\n",
       "3             staff_hired_ci_count\n",
       "4             staff_hired_ci_count\n",
       "                   ...            \n",
       "1144     contacts_named_ratio_mean\n",
       "1145    cases_named_contacts_count\n",
       "1146    cases_named_contacts_count\n",
       "1147       percent_naming_contacts\n",
       "1148          contacts_named_count\n",
       "Name: param_name, Length: 1149, dtype: object"
      ]
     },
     "execution_count": 59,
     "metadata": {},
     "output_type": "execute_result"
    }
   ],
   "source": [
    "df['param_name']"
   ]
  },
  {
   "cell_type": "code",
   "execution_count": 60,
   "id": "464e8ebe-ac4c-4b71-87b1-eb1da106f6b6",
   "metadata": {
    "editable": true,
    "slideshow": {
     "slide_type": ""
    },
    "tags": []
   },
   "outputs": [],
   "source": [
    "# Reshape so each source has multiple rows with separate columns for parameters and dates\n",
    "df_wide_no_dates = df.pivot_table(index=\"source\", columns=\"param_name\", values=\"param_value\", \n",
    "                                  aggfunc=\"first\").reset_index()\n",
    "df_wide_dates = df.pivot_table(index=[\"source\", \"pm_start_date\", \"pm_end_date\"], \n",
    "                    columns=\"param_name\", values=\"param_value\", aggfunc=\"first\").reset_index()\n",
    "df_wide_dates_loc = df.pivot_table(index=[\"source\", \"pm_start_date\", \"pm_end_date\", \"pm_location\"], \n",
    "                    columns=\"param_name\", values=\"param_value\").reset_index()"
   ]
  },
  {
   "cell_type": "code",
   "execution_count": 61,
   "id": "91cb9466-ca06-4bd1-8649-10ce04fc0a34",
   "metadata": {
    "editable": true,
    "slideshow": {
     "slide_type": ""
    },
    "tags": []
   },
   "outputs": [
    {
     "data": {
      "text/html": [
       "<div>\n",
       "<style scoped>\n",
       "    .dataframe tbody tr th:only-of-type {\n",
       "        vertical-align: middle;\n",
       "    }\n",
       "\n",
       "    .dataframe tbody tr th {\n",
       "        vertical-align: top;\n",
       "    }\n",
       "\n",
       "    .dataframe thead th {\n",
       "        text-align: right;\n",
       "    }\n",
       "</style>\n",
       "<table border=\"1\" class=\"dataframe\">\n",
       "  <thead>\n",
       "    <tr style=\"text-align: right;\">\n",
       "      <th>param_name</th>\n",
       "      <th>source</th>\n",
       "      <th>pm_start_date</th>\n",
       "      <th>pm_end_date</th>\n",
       "      <th>cases_assigned_count</th>\n",
       "      <th>cases_interviewed_count</th>\n",
       "      <th>cases_interviewed_perc</th>\n",
       "      <th>cases_named_contacts_count</th>\n",
       "      <th>cases_not_assigned_count</th>\n",
       "      <th>cases_per_staff_month</th>\n",
       "      <th>cases_positive_from_test_mean</th>\n",
       "      <th>...</th>\n",
       "      <th>num_users_upper_bound</th>\n",
       "      <th>percent_naming_contacts</th>\n",
       "      <th>quarantine_adherent_perc</th>\n",
       "      <th>staff_hired_ci_count</th>\n",
       "      <th>staff_hired_ci_per_health_dept_mean</th>\n",
       "      <th>staff_hired_count</th>\n",
       "      <th>staff_hired_ct_count</th>\n",
       "      <th>staff_hired_ct_per_health_dept_mean</th>\n",
       "      <th>user_cases_notifying</th>\n",
       "      <th>users_with_code</th>\n",
       "    </tr>\n",
       "  </thead>\n",
       "  <tbody>\n",
       "    <tr>\n",
       "      <th>0</th>\n",
       "      <td>A Multifaceted Evaluation of a COVID-19 Contac...</td>\n",
       "      <td>3/1/21</td>\n",
       "      <td>3/31/21</td>\n",
       "      <td>NaN</td>\n",
       "      <td>NaN</td>\n",
       "      <td>NaN</td>\n",
       "      <td>NaN</td>\n",
       "      <td>NaN</td>\n",
       "      <td>NaN</td>\n",
       "      <td>NaN</td>\n",
       "      <td>...</td>\n",
       "      <td>NaN</td>\n",
       "      <td>NaN</td>\n",
       "      <td>81.0</td>\n",
       "      <td>NaN</td>\n",
       "      <td>NaN</td>\n",
       "      <td>NaN</td>\n",
       "      <td>NaN</td>\n",
       "      <td>NaN</td>\n",
       "      <td>NaN</td>\n",
       "      <td>NaN</td>\n",
       "    </tr>\n",
       "    <tr>\n",
       "      <th>1</th>\n",
       "      <td>A Multifaceted Evaluation of a COVID-19 Contac...</td>\n",
       "      <td>4/1/21</td>\n",
       "      <td>6/30/20</td>\n",
       "      <td>NaN</td>\n",
       "      <td>NaN</td>\n",
       "      <td>76.0</td>\n",
       "      <td>NaN</td>\n",
       "      <td>NaN</td>\n",
       "      <td>NaN</td>\n",
       "      <td>NaN</td>\n",
       "      <td>...</td>\n",
       "      <td>NaN</td>\n",
       "      <td>NaN</td>\n",
       "      <td>NaN</td>\n",
       "      <td>NaN</td>\n",
       "      <td>NaN</td>\n",
       "      <td>NaN</td>\n",
       "      <td>NaN</td>\n",
       "      <td>NaN</td>\n",
       "      <td>NaN</td>\n",
       "      <td>NaN</td>\n",
       "    </tr>\n",
       "    <tr>\n",
       "      <th>2</th>\n",
       "      <td>A Multifaceted Evaluation of a COVID-19 Contac...</td>\n",
       "      <td>7/1/20</td>\n",
       "      <td>6/30/21</td>\n",
       "      <td>52317.0</td>\n",
       "      <td>42900.0</td>\n",
       "      <td>NaN</td>\n",
       "      <td>NaN</td>\n",
       "      <td>NaN</td>\n",
       "      <td>NaN</td>\n",
       "      <td>NaN</td>\n",
       "      <td>...</td>\n",
       "      <td>NaN</td>\n",
       "      <td>NaN</td>\n",
       "      <td>NaN</td>\n",
       "      <td>NaN</td>\n",
       "      <td>NaN</td>\n",
       "      <td>NaN</td>\n",
       "      <td>NaN</td>\n",
       "      <td>NaN</td>\n",
       "      <td>NaN</td>\n",
       "      <td>NaN</td>\n",
       "    </tr>\n",
       "    <tr>\n",
       "      <th>3</th>\n",
       "      <td>A Multifaceted Evaluation of a COVID-19 Contac...</td>\n",
       "      <td>7/1/20</td>\n",
       "      <td>9/30/20</td>\n",
       "      <td>NaN</td>\n",
       "      <td>NaN</td>\n",
       "      <td>87.0</td>\n",
       "      <td>NaN</td>\n",
       "      <td>NaN</td>\n",
       "      <td>NaN</td>\n",
       "      <td>NaN</td>\n",
       "      <td>...</td>\n",
       "      <td>NaN</td>\n",
       "      <td>NaN</td>\n",
       "      <td>NaN</td>\n",
       "      <td>NaN</td>\n",
       "      <td>NaN</td>\n",
       "      <td>NaN</td>\n",
       "      <td>NaN</td>\n",
       "      <td>NaN</td>\n",
       "      <td>NaN</td>\n",
       "      <td>NaN</td>\n",
       "    </tr>\n",
       "    <tr>\n",
       "      <th>4</th>\n",
       "      <td>A Patient-Initiated Digital COVID-19 Contact N...</td>\n",
       "      <td>5/18/20</td>\n",
       "      <td>8/17/20</td>\n",
       "      <td>NaN</td>\n",
       "      <td>NaN</td>\n",
       "      <td>NaN</td>\n",
       "      <td>NaN</td>\n",
       "      <td>NaN</td>\n",
       "      <td>NaN</td>\n",
       "      <td>NaN</td>\n",
       "      <td>...</td>\n",
       "      <td>NaN</td>\n",
       "      <td>NaN</td>\n",
       "      <td>NaN</td>\n",
       "      <td>NaN</td>\n",
       "      <td>NaN</td>\n",
       "      <td>NaN</td>\n",
       "      <td>NaN</td>\n",
       "      <td>NaN</td>\n",
       "      <td>NaN</td>\n",
       "      <td>NaN</td>\n",
       "    </tr>\n",
       "  </tbody>\n",
       "</table>\n",
       "<p>5 rows × 88 columns</p>\n",
       "</div>"
      ],
      "text/plain": [
       "param_name                                             source pm_start_date  \\\n",
       "0           A Multifaceted Evaluation of a COVID-19 Contac...        3/1/21   \n",
       "1           A Multifaceted Evaluation of a COVID-19 Contac...        4/1/21   \n",
       "2           A Multifaceted Evaluation of a COVID-19 Contac...        7/1/20   \n",
       "3           A Multifaceted Evaluation of a COVID-19 Contac...        7/1/20   \n",
       "4           A Patient-Initiated Digital COVID-19 Contact N...       5/18/20   \n",
       "\n",
       "param_name pm_end_date  cases_assigned_count  cases_interviewed_count  \\\n",
       "0              3/31/21                   NaN                      NaN   \n",
       "1              6/30/20                   NaN                      NaN   \n",
       "2              6/30/21               52317.0                  42900.0   \n",
       "3              9/30/20                   NaN                      NaN   \n",
       "4              8/17/20                   NaN                      NaN   \n",
       "\n",
       "param_name  cases_interviewed_perc  cases_named_contacts_count  \\\n",
       "0                              NaN                         NaN   \n",
       "1                             76.0                         NaN   \n",
       "2                              NaN                         NaN   \n",
       "3                             87.0                         NaN   \n",
       "4                              NaN                         NaN   \n",
       "\n",
       "param_name  cases_not_assigned_count  cases_per_staff_month  \\\n",
       "0                                NaN                    NaN   \n",
       "1                                NaN                    NaN   \n",
       "2                                NaN                    NaN   \n",
       "3                                NaN                    NaN   \n",
       "4                                NaN                    NaN   \n",
       "\n",
       "param_name  cases_positive_from_test_mean  ...  num_users_upper_bound  \\\n",
       "0                                     NaN  ...                    NaN   \n",
       "1                                     NaN  ...                    NaN   \n",
       "2                                     NaN  ...                    NaN   \n",
       "3                                     NaN  ...                    NaN   \n",
       "4                                     NaN  ...                    NaN   \n",
       "\n",
       "param_name  percent_naming_contacts  quarantine_adherent_perc  \\\n",
       "0                               NaN                      81.0   \n",
       "1                               NaN                       NaN   \n",
       "2                               NaN                       NaN   \n",
       "3                               NaN                       NaN   \n",
       "4                               NaN                       NaN   \n",
       "\n",
       "param_name  staff_hired_ci_count  staff_hired_ci_per_health_dept_mean  \\\n",
       "0                            NaN                                  NaN   \n",
       "1                            NaN                                  NaN   \n",
       "2                            NaN                                  NaN   \n",
       "3                            NaN                                  NaN   \n",
       "4                            NaN                                  NaN   \n",
       "\n",
       "param_name  staff_hired_count  staff_hired_ct_count  \\\n",
       "0                         NaN                   NaN   \n",
       "1                         NaN                   NaN   \n",
       "2                         NaN                   NaN   \n",
       "3                         NaN                   NaN   \n",
       "4                         NaN                   NaN   \n",
       "\n",
       "param_name  staff_hired_ct_per_health_dept_mean  user_cases_notifying  \\\n",
       "0                                           NaN                   NaN   \n",
       "1                                           NaN                   NaN   \n",
       "2                                           NaN                   NaN   \n",
       "3                                           NaN                   NaN   \n",
       "4                                           NaN                   NaN   \n",
       "\n",
       "param_name  users_with_code  \n",
       "0                       NaN  \n",
       "1                       NaN  \n",
       "2                       NaN  \n",
       "3                       NaN  \n",
       "4                       NaN  \n",
       "\n",
       "[5 rows x 88 columns]"
      ]
     },
     "execution_count": 61,
     "metadata": {},
     "output_type": "execute_result"
    }
   ],
   "source": [
    "df_wide_dates.head()"
   ]
  },
  {
   "cell_type": "code",
   "execution_count": 62,
   "id": "b7e864e0-f502-484f-b313-b0b031535c47",
   "metadata": {
    "editable": true,
    "slideshow": {
     "slide_type": ""
    },
    "tags": []
   },
   "outputs": [],
   "source": [
    "df_wide_no_dates.to_csv('/Users/kaitlinsinger/wa_notify/DEN_future/data_extraction/manipulated_data/simplified_wide_df.csv')\n",
    "df_wide_dates.to_csv('/Users/kaitlinsinger/wa_notify/DEN_future/data_extraction/manipulated_data/simplified_wide_df_with_date.csv')\n",
    "df_wide_dates_loc.to_csv('/Users/kaitlinsinger/wa_notify/DEN_future/data_extraction/manipulated_data/simplified_wide_df_with_date_loc.csv')"
   ]
  },
  {
   "cell_type": "code",
   "execution_count": null,
   "id": "5347428f-d950-47c6-aa2a-80aab7742e1b",
   "metadata": {
    "editable": true,
    "slideshow": {
     "slide_type": ""
    },
    "tags": []
   },
   "outputs": [],
   "source": []
  },
  {
   "cell_type": "code",
   "execution_count": null,
   "id": "d656915e-68e7-410a-a0a4-7faa34726ec1",
   "metadata": {
    "editable": true,
    "slideshow": {
     "slide_type": ""
    },
    "tags": []
   },
   "outputs": [],
   "source": []
  }
 ],
 "metadata": {
  "kernelspec": {
   "display_name": "Python 3 (ipykernel)",
   "language": "python",
   "name": "python3"
  },
  "language_info": {
   "codemirror_mode": {
    "name": "ipython",
    "version": 3
   },
   "file_extension": ".py",
   "mimetype": "text/x-python",
   "name": "python",
   "nbconvert_exporter": "python",
   "pygments_lexer": "ipython3",
   "version": "3.10.0"
  }
 },
 "nbformat": 4,
 "nbformat_minor": 5
}
