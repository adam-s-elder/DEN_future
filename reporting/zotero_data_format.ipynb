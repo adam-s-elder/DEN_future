{
 "cells": [
  {
   "cell_type": "code",
   "execution_count": 15,
   "id": "af31de17-2170-4c7b-aa72-a507abad391e",
   "metadata": {
    "editable": true,
    "slideshow": {
     "slide_type": ""
    },
    "tags": []
   },
   "outputs": [],
   "source": [
    "import pandas as pd\n",
    "import os"
   ]
  },
  {
   "cell_type": "code",
   "execution_count": 16,
   "id": "f84f78af-1579-4ac8-9559-99caae6b70bc",
   "metadata": {
    "editable": true,
    "slideshow": {
     "slide_type": ""
    },
    "tags": []
   },
   "outputs": [],
   "source": [
    "# Check if folder exists\n",
    "\n",
    "adam_folder = os.path.exists('/Users/adamelder/')\n",
    "folder_to_use = \"/Users/adamelder/\" if adam_folder else '/Users/kaitlinsinger/wa_notify/'\n",
    "df = pd.read_csv(folder_to_use + 'DEN_future/data_extraction/output/combined_data.csv')"
   ]
  },
  {
   "cell_type": "code",
   "execution_count": 17,
   "id": "20b90ed8-99b8-4e02-9f03-206bcb99086b",
   "metadata": {
    "editable": true,
    "slideshow": {
     "slide_type": ""
    },
    "tags": []
   },
   "outputs": [],
   "source": [
    "# any addt cleaning here\n",
    "df['param_name'] = df['param_name'].str.replace('case', 'cases')\n",
    "df['param_name'] = df['param_name'].str.replace('casess', 'cases')\n",
    "df['param_name'] = df['param_name'].str.replace('contact', 'contacts')\n",
    "df['param_name'] = df['param_name'].str.replace('contactss', 'contacts')\n",
    "df['param_name'] = df['param_name'].str.replace('total', 'count')\n",
    "df['param_name'] = df['param_name'].str.replace('avg', 'mean')\n",
    "df['param_name'] = df['param_name'].str.replace('median', 'med')"
   ]
  },
  {
   "cell_type": "code",
   "execution_count": 18,
   "id": "8977c202-bd17-4cac-9129-44a72a374b80",
   "metadata": {
    "editable": true,
    "slideshow": {
     "slide_type": ""
    },
    "tags": []
   },
   "outputs": [
    {
     "data": {
      "text/plain": [
       "0                         hr_hours\n",
       "1             cases_assigned_count\n",
       "2              cases_reached_count\n",
       "3             contacts_named_count\n",
       "4           contacts_reached_count\n",
       "                   ...            \n",
       "1222    cases_named_contacts_count\n",
       "1223    cases_named_contacts_count\n",
       "1224      self_report_codes_issued\n",
       "1225        contacts_reached_count\n",
       "1226        contacts_reached_count\n",
       "Name: param_name, Length: 1227, dtype: object"
      ]
     },
     "execution_count": 18,
     "metadata": {},
     "output_type": "execute_result"
    }
   ],
   "source": [
    "df['param_name']"
   ]
  },
  {
   "cell_type": "code",
   "execution_count": 19,
   "id": "464e8ebe-ac4c-4b71-87b1-eb1da106f6b6",
   "metadata": {
    "editable": true,
    "slideshow": {
     "slide_type": ""
    },
    "tags": []
   },
   "outputs": [],
   "source": [
    "# Reshape so each source has multiple rows with separate columns for parameters and dates\n",
    "df_wide_no_dates = df.pivot_table(index=\"source\", columns=\"param_name\", values=\"param_value\", \n",
    "                                  aggfunc=\"first\").reset_index()\n",
    "df_wide_dates = df.pivot_table(index=[\"source\", \"pm_start_date\", \"pm_end_date\"], \n",
    "                    columns=\"param_name\", values=\"param_value\", aggfunc=\"first\").reset_index()\n",
    "df_wide_dates_loc = df.pivot_table(index=[\"source\", \"pm_start_date\", \"pm_end_date\", \"pm_location\"], \n",
    "                    columns=\"param_name\", values=\"param_value\").reset_index()"
   ]
  },
  {
   "cell_type": "code",
   "execution_count": 20,
   "id": "91cb9466-ca06-4bd1-8649-10ce04fc0a34",
   "metadata": {
    "editable": true,
    "slideshow": {
     "slide_type": ""
    },
    "tags": []
   },
   "outputs": [
    {
     "data": {
      "text/html": [
       "<div>\n",
       "<style scoped>\n",
       "    .dataframe tbody tr th:only-of-type {\n",
       "        vertical-align: middle;\n",
       "    }\n",
       "\n",
       "    .dataframe tbody tr th {\n",
       "        vertical-align: top;\n",
       "    }\n",
       "\n",
       "    .dataframe thead th {\n",
       "        text-align: right;\n",
       "    }\n",
       "</style>\n",
       "<table border=\"1\" class=\"dataframe\">\n",
       "  <thead>\n",
       "    <tr style=\"text-align: right;\">\n",
       "      <th>param_name</th>\n",
       "      <th>source</th>\n",
       "      <th>pm_start_date</th>\n",
       "      <th>pm_end_date</th>\n",
       "      <th>cases_assigned_count</th>\n",
       "      <th>cases_interviewed_count</th>\n",
       "      <th>cases_interviewed_perc</th>\n",
       "      <th>cases_named_contacts_count</th>\n",
       "      <th>cases_not_assigned_count</th>\n",
       "      <th>cases_per_staff_month</th>\n",
       "      <th>cases_positive_from_test_mean</th>\n",
       "      <th>...</th>\n",
       "      <th>percent_naming_contacts</th>\n",
       "      <th>quarantine_adherent_perc</th>\n",
       "      <th>self_report_codes_issued</th>\n",
       "      <th>staff_hired_ci_count</th>\n",
       "      <th>staff_hired_ci_per_health_dept_mean</th>\n",
       "      <th>staff_hired_count</th>\n",
       "      <th>staff_hired_ct_count</th>\n",
       "      <th>staff_hired_ct_per_health_dept_mean</th>\n",
       "      <th>user_cases_notifying</th>\n",
       "      <th>users_with_code</th>\n",
       "    </tr>\n",
       "  </thead>\n",
       "  <tbody>\n",
       "    <tr>\n",
       "      <th>0</th>\n",
       "      <td>A Multifaceted Evaluation of a COVID-19 Contac...</td>\n",
       "      <td>03/01/2021</td>\n",
       "      <td>03/31/2021</td>\n",
       "      <td>NaN</td>\n",
       "      <td>NaN</td>\n",
       "      <td>NaN</td>\n",
       "      <td>NaN</td>\n",
       "      <td>NaN</td>\n",
       "      <td>NaN</td>\n",
       "      <td>NaN</td>\n",
       "      <td>...</td>\n",
       "      <td>NaN</td>\n",
       "      <td>81.0</td>\n",
       "      <td>NaN</td>\n",
       "      <td>NaN</td>\n",
       "      <td>NaN</td>\n",
       "      <td>NaN</td>\n",
       "      <td>NaN</td>\n",
       "      <td>NaN</td>\n",
       "      <td>NaN</td>\n",
       "      <td>NaN</td>\n",
       "    </tr>\n",
       "    <tr>\n",
       "      <th>1</th>\n",
       "      <td>A Multifaceted Evaluation of a COVID-19 Contac...</td>\n",
       "      <td>04/01/2021</td>\n",
       "      <td>06/30/2020</td>\n",
       "      <td>NaN</td>\n",
       "      <td>NaN</td>\n",
       "      <td>76.0</td>\n",
       "      <td>NaN</td>\n",
       "      <td>NaN</td>\n",
       "      <td>NaN</td>\n",
       "      <td>NaN</td>\n",
       "      <td>...</td>\n",
       "      <td>NaN</td>\n",
       "      <td>NaN</td>\n",
       "      <td>NaN</td>\n",
       "      <td>NaN</td>\n",
       "      <td>NaN</td>\n",
       "      <td>NaN</td>\n",
       "      <td>NaN</td>\n",
       "      <td>NaN</td>\n",
       "      <td>NaN</td>\n",
       "      <td>NaN</td>\n",
       "    </tr>\n",
       "    <tr>\n",
       "      <th>2</th>\n",
       "      <td>A Multifaceted Evaluation of a COVID-19 Contac...</td>\n",
       "      <td>07/01/2020</td>\n",
       "      <td>06/30/2021</td>\n",
       "      <td>52317.0</td>\n",
       "      <td>42900.0</td>\n",
       "      <td>NaN</td>\n",
       "      <td>NaN</td>\n",
       "      <td>NaN</td>\n",
       "      <td>NaN</td>\n",
       "      <td>NaN</td>\n",
       "      <td>...</td>\n",
       "      <td>NaN</td>\n",
       "      <td>NaN</td>\n",
       "      <td>NaN</td>\n",
       "      <td>NaN</td>\n",
       "      <td>NaN</td>\n",
       "      <td>NaN</td>\n",
       "      <td>NaN</td>\n",
       "      <td>NaN</td>\n",
       "      <td>NaN</td>\n",
       "      <td>NaN</td>\n",
       "    </tr>\n",
       "    <tr>\n",
       "      <th>3</th>\n",
       "      <td>A Multifaceted Evaluation of a COVID-19 Contac...</td>\n",
       "      <td>07/01/2020</td>\n",
       "      <td>09/30/2020</td>\n",
       "      <td>NaN</td>\n",
       "      <td>NaN</td>\n",
       "      <td>87.0</td>\n",
       "      <td>NaN</td>\n",
       "      <td>NaN</td>\n",
       "      <td>NaN</td>\n",
       "      <td>NaN</td>\n",
       "      <td>...</td>\n",
       "      <td>NaN</td>\n",
       "      <td>NaN</td>\n",
       "      <td>NaN</td>\n",
       "      <td>NaN</td>\n",
       "      <td>NaN</td>\n",
       "      <td>NaN</td>\n",
       "      <td>NaN</td>\n",
       "      <td>NaN</td>\n",
       "      <td>NaN</td>\n",
       "      <td>NaN</td>\n",
       "    </tr>\n",
       "    <tr>\n",
       "      <th>4</th>\n",
       "      <td>A Patient-Initiated Digital COVID-19 Contact N...</td>\n",
       "      <td>05/18/2020</td>\n",
       "      <td>08/17/2020</td>\n",
       "      <td>NaN</td>\n",
       "      <td>NaN</td>\n",
       "      <td>NaN</td>\n",
       "      <td>NaN</td>\n",
       "      <td>NaN</td>\n",
       "      <td>NaN</td>\n",
       "      <td>NaN</td>\n",
       "      <td>...</td>\n",
       "      <td>NaN</td>\n",
       "      <td>NaN</td>\n",
       "      <td>NaN</td>\n",
       "      <td>NaN</td>\n",
       "      <td>NaN</td>\n",
       "      <td>NaN</td>\n",
       "      <td>NaN</td>\n",
       "      <td>NaN</td>\n",
       "      <td>NaN</td>\n",
       "      <td>NaN</td>\n",
       "    </tr>\n",
       "  </tbody>\n",
       "</table>\n",
       "<p>5 rows × 90 columns</p>\n",
       "</div>"
      ],
      "text/plain": [
       "param_name                                             source pm_start_date  \\\n",
       "0           A Multifaceted Evaluation of a COVID-19 Contac...    03/01/2021   \n",
       "1           A Multifaceted Evaluation of a COVID-19 Contac...    04/01/2021   \n",
       "2           A Multifaceted Evaluation of a COVID-19 Contac...    07/01/2020   \n",
       "3           A Multifaceted Evaluation of a COVID-19 Contac...    07/01/2020   \n",
       "4           A Patient-Initiated Digital COVID-19 Contact N...    05/18/2020   \n",
       "\n",
       "param_name pm_end_date  cases_assigned_count  cases_interviewed_count  \\\n",
       "0           03/31/2021                   NaN                      NaN   \n",
       "1           06/30/2020                   NaN                      NaN   \n",
       "2           06/30/2021               52317.0                  42900.0   \n",
       "3           09/30/2020                   NaN                      NaN   \n",
       "4           08/17/2020                   NaN                      NaN   \n",
       "\n",
       "param_name  cases_interviewed_perc  cases_named_contacts_count  \\\n",
       "0                              NaN                         NaN   \n",
       "1                             76.0                         NaN   \n",
       "2                              NaN                         NaN   \n",
       "3                             87.0                         NaN   \n",
       "4                              NaN                         NaN   \n",
       "\n",
       "param_name  cases_not_assigned_count  cases_per_staff_month  \\\n",
       "0                                NaN                    NaN   \n",
       "1                                NaN                    NaN   \n",
       "2                                NaN                    NaN   \n",
       "3                                NaN                    NaN   \n",
       "4                                NaN                    NaN   \n",
       "\n",
       "param_name  cases_positive_from_test_mean  ...  percent_naming_contacts  \\\n",
       "0                                     NaN  ...                      NaN   \n",
       "1                                     NaN  ...                      NaN   \n",
       "2                                     NaN  ...                      NaN   \n",
       "3                                     NaN  ...                      NaN   \n",
       "4                                     NaN  ...                      NaN   \n",
       "\n",
       "param_name  quarantine_adherent_perc  self_report_codes_issued  \\\n",
       "0                               81.0                       NaN   \n",
       "1                                NaN                       NaN   \n",
       "2                                NaN                       NaN   \n",
       "3                                NaN                       NaN   \n",
       "4                                NaN                       NaN   \n",
       "\n",
       "param_name  staff_hired_ci_count  staff_hired_ci_per_health_dept_mean  \\\n",
       "0                            NaN                                  NaN   \n",
       "1                            NaN                                  NaN   \n",
       "2                            NaN                                  NaN   \n",
       "3                            NaN                                  NaN   \n",
       "4                            NaN                                  NaN   \n",
       "\n",
       "param_name  staff_hired_count  staff_hired_ct_count  \\\n",
       "0                         NaN                   NaN   \n",
       "1                         NaN                   NaN   \n",
       "2                         NaN                   NaN   \n",
       "3                         NaN                   NaN   \n",
       "4                         NaN                   NaN   \n",
       "\n",
       "param_name  staff_hired_ct_per_health_dept_mean  user_cases_notifying  \\\n",
       "0                                           NaN                   NaN   \n",
       "1                                           NaN                   NaN   \n",
       "2                                           NaN                   NaN   \n",
       "3                                           NaN                   NaN   \n",
       "4                                           NaN                   NaN   \n",
       "\n",
       "param_name  users_with_code  \n",
       "0                       NaN  \n",
       "1                       NaN  \n",
       "2                       NaN  \n",
       "3                       NaN  \n",
       "4                       NaN  \n",
       "\n",
       "[5 rows x 90 columns]"
      ]
     },
     "execution_count": 20,
     "metadata": {},
     "output_type": "execute_result"
    }
   ],
   "source": [
    "df_wide_dates.head()"
   ]
  },
  {
   "cell_type": "code",
   "execution_count": 21,
   "id": "b7e864e0-f502-484f-b313-b0b031535c47",
   "metadata": {
    "editable": true,
    "slideshow": {
     "slide_type": ""
    },
    "tags": []
   },
   "outputs": [],
   "source": [
    "\n",
    "df_wide_no_dates.to_csv(folder_to_use + 'DEN_future/data_extraction/manipulated_data/simplified_wide_df.csv')\n",
    "df_wide_dates.to_csv(folder_to_use + 'DEN_future/data_extraction/manipulated_data/simplified_wide_df_with_date.csv')\n",
    "df_wide_dates_loc.to_csv(folder_to_use + 'DEN_future/data_extraction/manipulated_data/simplified_wide_df_with_date_loc.csv')"
   ]
  },
  {
   "cell_type": "code",
   "execution_count": null,
   "id": "5347428f-d950-47c6-aa2a-80aab7742e1b",
   "metadata": {
    "editable": true,
    "slideshow": {
     "slide_type": ""
    },
    "tags": []
   },
   "outputs": [],
   "source": []
  },
  {
   "cell_type": "code",
   "execution_count": null,
   "id": "d656915e-68e7-410a-a0a4-7faa34726ec1",
   "metadata": {
    "editable": true,
    "slideshow": {
     "slide_type": ""
    },
    "tags": []
   },
   "outputs": [],
   "source": []
  }
 ],
 "metadata": {
  "kernelspec": {
   "display_name": "Python 3",
   "language": "python",
   "name": "python3"
  },
  "language_info": {
   "codemirror_mode": {
    "name": "ipython",
    "version": 3
   },
   "file_extension": ".py",
   "mimetype": "text/x-python",
   "name": "python",
   "nbconvert_exporter": "python",
   "pygments_lexer": "ipython3",
   "version": "3.9.22"
  }
 },
 "nbformat": 4,
 "nbformat_minor": 5
}
